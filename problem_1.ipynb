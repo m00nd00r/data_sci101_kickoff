{
 "cells": [
  {
   "cell_type": "markdown",
   "metadata": {},
   "source": [
    "# Challenge Description\n",
    "We got employee data from a few companies. We have data about all employees who joined\n",
    "from 2011/01/24 to 2015/12/13. For each employee, we also know if they are still at the\n",
    "company as of 2015/12/13 or they have quit. Beside that, we have general info about the\n",
    "employee, such as avg salary during her tenure, dept, and yrs of experience.\n",
    "\n",
    "The goal here is to predict employee retention and understand its main drivers.<br>\n",
    "Specifically, you should:\n",
    "* Assume, for each company, that the headcount starts from zero on 2011/01/23. Estimate\n",
    "employee headcount, for each company, on each day, from 2011/01/24 to 2015/12/13.\n",
    "That is, if by 2012/03/02 2000 people have joined company 1 and 1000 of them have\n",
    "already quit, then company headcount on 2012/03/02 for company 1 would be 1000.\n",
    "**You should create a table with 3 columns: day, employee_headcount, company_id.**\n",
    "* What are the main factors that drive employee churn? Do they make sense? Explain your\n",
    "findings.\n",
    "* If you could add to this data set just one variable that could help explain employee churn,\n",
    "what would that be?\n",
    "\n",
    "# Data\n",
    "\n",
    "There is one data file you will need to load (located in the data folder):\n",
    "\n",
    "### problem1_data.csv\n",
    "\n",
    "** Columns:**\n",
    "* **employee_id** : id of the employee. Unique by employee per company\n",
    "* **company_id** : company id.\n",
    "* **dept** : employee dept\n",
    "* **seniority** : number of yrs of work experience when hired\n",
    "* **salary** : avg yearly salary of the employee during her tenure within the company\n",
    "* **join_date** : when the employee joined the company, it can only be between 2011/01/24\n",
    "and 2015/12/13\n",
    "* **quit_date**: when the employee left her job (if she is still employed as of 2015/12/13, this\n",
    "field is NA)\n"
   ]
  },
  {
   "cell_type": "code",
   "execution_count": 1,
   "metadata": {
    "collapsed": true
   },
   "outputs": [],
   "source": [
    "import pandas as pd"
   ]
  },
  {
   "cell_type": "code",
   "execution_count": 3,
   "metadata": {
    "collapsed": false
   },
   "outputs": [],
   "source": [
    "df = pd.read_csv('data/problem1_data.csv')"
   ]
  },
  {
   "cell_type": "code",
   "execution_count": 4,
   "metadata": {
    "collapsed": false
   },
   "outputs": [
    {
     "data": {
      "text/html": [
       "<div>\n",
       "<table border=\"1\" class=\"dataframe\">\n",
       "  <thead>\n",
       "    <tr style=\"text-align: right;\">\n",
       "      <th></th>\n",
       "      <th>employee_id</th>\n",
       "      <th>company_id</th>\n",
       "      <th>dept</th>\n",
       "      <th>seniority</th>\n",
       "      <th>salary</th>\n",
       "      <th>join_date</th>\n",
       "      <th>quit_date</th>\n",
       "    </tr>\n",
       "  </thead>\n",
       "  <tbody>\n",
       "    <tr>\n",
       "      <th>0</th>\n",
       "      <td>13021.0</td>\n",
       "      <td>7</td>\n",
       "      <td>customer_service</td>\n",
       "      <td>28</td>\n",
       "      <td>89000.0</td>\n",
       "      <td>2014-03-24</td>\n",
       "      <td>2015-10-30</td>\n",
       "    </tr>\n",
       "    <tr>\n",
       "      <th>1</th>\n",
       "      <td>825355.0</td>\n",
       "      <td>7</td>\n",
       "      <td>marketing</td>\n",
       "      <td>20</td>\n",
       "      <td>183000.0</td>\n",
       "      <td>2013-04-29</td>\n",
       "      <td>2014-04-04</td>\n",
       "    </tr>\n",
       "    <tr>\n",
       "      <th>2</th>\n",
       "      <td>927315.0</td>\n",
       "      <td>4</td>\n",
       "      <td>marketing</td>\n",
       "      <td>14</td>\n",
       "      <td>101000.0</td>\n",
       "      <td>2014-10-13</td>\n",
       "      <td>NaN</td>\n",
       "    </tr>\n",
       "    <tr>\n",
       "      <th>3</th>\n",
       "      <td>662910.0</td>\n",
       "      <td>7</td>\n",
       "      <td>customer_service</td>\n",
       "      <td>20</td>\n",
       "      <td>115000.0</td>\n",
       "      <td>2012-05-14</td>\n",
       "      <td>2013-06-07</td>\n",
       "    </tr>\n",
       "    <tr>\n",
       "      <th>4</th>\n",
       "      <td>256971.0</td>\n",
       "      <td>2</td>\n",
       "      <td>data_science</td>\n",
       "      <td>23</td>\n",
       "      <td>276000.0</td>\n",
       "      <td>2011-10-17</td>\n",
       "      <td>2014-08-22</td>\n",
       "    </tr>\n",
       "  </tbody>\n",
       "</table>\n",
       "</div>"
      ],
      "text/plain": [
       "   employee_id  company_id              dept  seniority    salary   join_date  \\\n",
       "0      13021.0           7  customer_service         28   89000.0  2014-03-24   \n",
       "1     825355.0           7         marketing         20  183000.0  2013-04-29   \n",
       "2     927315.0           4         marketing         14  101000.0  2014-10-13   \n",
       "3     662910.0           7  customer_service         20  115000.0  2012-05-14   \n",
       "4     256971.0           2      data_science         23  276000.0  2011-10-17   \n",
       "\n",
       "    quit_date  \n",
       "0  2015-10-30  \n",
       "1  2014-04-04  \n",
       "2         NaN  \n",
       "3  2013-06-07  \n",
       "4  2014-08-22  "
      ]
     },
     "execution_count": 4,
     "metadata": {},
     "output_type": "execute_result"
    }
   ],
   "source": [
    "df.head()"
   ]
  },
  {
   "cell_type": "code",
   "execution_count": 8,
   "metadata": {
    "collapsed": false
   },
   "outputs": [
    {
     "data": {
      "text/plain": [
       "array([28, 20, 14, 23, 21,  4,  7, 13, 17,  1, 10,  6, 19, 15, 26, 27,  5,\n",
       "       18, 16, 25,  9,  2, 29,  3,  8, 22, 24, 12, 11, 98, 99])"
      ]
     },
     "execution_count": 8,
     "metadata": {},
     "output_type": "execute_result"
    }
   ],
   "source": [
    "df.seniority.unique()"
   ]
  },
  {
   "cell_type": "code",
   "execution_count": 12,
   "metadata": {
    "collapsed": false
   },
   "outputs": [
    {
     "data": {
      "text/html": [
       "<div>\n",
       "<table border=\"1\" class=\"dataframe\">\n",
       "  <thead>\n",
       "    <tr style=\"text-align: right;\">\n",
       "      <th></th>\n",
       "      <th>employee_id</th>\n",
       "      <th>company_id</th>\n",
       "      <th>dept</th>\n",
       "      <th>seniority</th>\n",
       "      <th>salary</th>\n",
       "      <th>join_date</th>\n",
       "      <th>quit_date</th>\n",
       "    </tr>\n",
       "  </thead>\n",
       "  <tbody>\n",
       "    <tr>\n",
       "      <th>0</th>\n",
       "      <td>13021.0</td>\n",
       "      <td>7</td>\n",
       "      <td>customer_service</td>\n",
       "      <td>28</td>\n",
       "      <td>89000.0</td>\n",
       "      <td>2014-03-24</td>\n",
       "      <td>2015-10-30</td>\n",
       "    </tr>\n",
       "    <tr>\n",
       "      <th>1</th>\n",
       "      <td>825355.0</td>\n",
       "      <td>7</td>\n",
       "      <td>marketing</td>\n",
       "      <td>20</td>\n",
       "      <td>183000.0</td>\n",
       "      <td>2013-04-29</td>\n",
       "      <td>2014-04-04</td>\n",
       "    </tr>\n",
       "    <tr>\n",
       "      <th>2</th>\n",
       "      <td>927315.0</td>\n",
       "      <td>4</td>\n",
       "      <td>marketing</td>\n",
       "      <td>14</td>\n",
       "      <td>101000.0</td>\n",
       "      <td>2014-10-13</td>\n",
       "      <td>NaN</td>\n",
       "    </tr>\n",
       "    <tr>\n",
       "      <th>3</th>\n",
       "      <td>662910.0</td>\n",
       "      <td>7</td>\n",
       "      <td>customer_service</td>\n",
       "      <td>20</td>\n",
       "      <td>115000.0</td>\n",
       "      <td>2012-05-14</td>\n",
       "      <td>2013-06-07</td>\n",
       "    </tr>\n",
       "    <tr>\n",
       "      <th>4</th>\n",
       "      <td>256971.0</td>\n",
       "      <td>2</td>\n",
       "      <td>data_science</td>\n",
       "      <td>23</td>\n",
       "      <td>276000.0</td>\n",
       "      <td>2011-10-17</td>\n",
       "      <td>2014-08-22</td>\n",
       "    </tr>\n",
       "  </tbody>\n",
       "</table>\n",
       "</div>"
      ],
      "text/plain": [
       "   employee_id  company_id              dept  seniority    salary   join_date  \\\n",
       "0      13021.0           7  customer_service         28   89000.0  2014-03-24   \n",
       "1     825355.0           7         marketing         20  183000.0  2013-04-29   \n",
       "2     927315.0           4         marketing         14  101000.0  2014-10-13   \n",
       "3     662910.0           7  customer_service         20  115000.0  2012-05-14   \n",
       "4     256971.0           2      data_science         23  276000.0  2011-10-17   \n",
       "\n",
       "    quit_date  \n",
       "0  2015-10-30  \n",
       "1  2014-04-04  \n",
       "2         NaN  \n",
       "3  2013-06-07  \n",
       "4  2014-08-22  "
      ]
     },
     "execution_count": 12,
     "metadata": {},
     "output_type": "execute_result"
    }
   ],
   "source": [
    "df1 = df[df.seniority < 90]\n",
    "df1.head()"
   ]
  },
  {
   "cell_type": "code",
   "execution_count": null,
   "metadata": {
    "collapsed": true
   },
   "outputs": [],
   "source": [
    "df2 = df[]"
   ]
  }
 ],
 "metadata": {
  "kernelspec": {
   "display_name": "Python [conda root]",
   "language": "python",
   "name": "conda-root-py"
  },
  "language_info": {
   "codemirror_mode": {
    "name": "ipython",
    "version": 2
   },
   "file_extension": ".py",
   "mimetype": "text/x-python",
   "name": "python",
   "nbconvert_exporter": "python",
   "pygments_lexer": "ipython2",
   "version": "2.7.13"
  }
 },
 "nbformat": 4,
 "nbformat_minor": 2
}
